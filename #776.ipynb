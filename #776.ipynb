{
 "metadata": {
  "language_info": {
   "codemirror_mode": {
    "name": "ipython",
    "version": 3
   },
   "file_extension": ".py",
   "mimetype": "text/x-python",
   "name": "python",
   "nbconvert_exporter": "python",
   "pygments_lexer": "ipython3",
   "version": "3.9.0"
  },
  "orig_nbformat": 4,
  "kernelspec": {
   "name": "python3",
   "display_name": "Python 3.9.0 64-bit ('3.9')"
  },
  "interpreter": {
   "hash": "b8bdd4e700647ba2b08c59e5df8b7da1dcf50a218bcd4c1bcd9b3dc92e8788e5"
  }
 },
 "nbformat": 4,
 "nbformat_minor": 2,
 "cells": [
  {
   "source": [
    "### Challange 776\n",
    "\n",
    "This problem was asked by Bloomberg.\n",
    "\n",
    "There are N prisoners standing in a circle, waiting to be executed. The executions are carried out starting with the k-th person, and removing every successive k-th person going clockwise until there is no one left.\n",
    "\n",
    "Given N and k, write an algorithm to determine where a prisoner should stand in order to be the last survivor.\n",
    "\n",
    "For example, if N = 5 and k = 2, the order of executions would be [2, 4, 1, 5, 3], so you should return 3.\n",
    "\n",
    "Bonus: Find an O(log N) solution if k = 2."
   ],
   "cell_type": "markdown",
   "metadata": {}
  },
  {
   "cell_type": "code",
   "execution_count": 46,
   "metadata": {},
   "outputs": [
    {
     "output_type": "stream",
     "name": "stdout",
     "text": [
      "prisoner k = 4 will be the last survivor\nthe prisoners got executed in this order: [3, 5, 7, 9, 2, 6, 1, 8, 4]\n"
     ]
    }
   ],
   "source": [
    "N = 9\n",
    "k = 3\n",
    "\n",
    "prisoners = list(range(1,N+1))\n",
    "executions = []\n",
    "\n",
    "index = k-1\n",
    "\n",
    "for i in range(N):\n",
    "    executions.append(prisoners[index])\n",
    "    prisoners.pop(index)\n",
    "    index += 1\n",
    "    if len(prisoners) == 1:\n",
    "        index = 0\n",
    "    elif index > len(prisoners)-1:\n",
    "        if index == len(prisoners):\n",
    "            index = 0\n",
    "        else:\n",
    "            index = 1\n",
    "\n",
    "print(f'prisoner k = {executions[-1]} will be the last survivor')\n",
    "print(f'the prisoners got executed in this order: {executions}')"
   ]
  },
  {
   "cell_type": "code",
   "execution_count": null,
   "metadata": {},
   "outputs": [],
   "source": []
  }
 ]
}