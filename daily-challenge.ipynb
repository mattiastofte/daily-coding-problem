{
 "cells": [
  {
   "cell_type": "markdown",
   "metadata": {},
   "source": [
    "# daily-coding-challanges\r\n",
    "a collection of *daily* (hopefully?) coding problems, neatly organized with solutions."
   ]
  },
  {
   "source": [
    "### Challange 567\r\n",
    "This problem was asked by Jane Street.\r\n",
    "\r\n",
    "cons(a, b) constructs a pair, and car(pair) and cdr(pair) returns the first and last element of that pair. For example, car(cons(3, 4)) returns 3, and cdr(cons(3, 4)) returns 4.\r\n",
    "\r\n",
    "Given this implementation of cons:\r\n",
    "\r\n",
    "```{r}\r\n",
    "def cons(a, b):\r\n",
    "    def pair(f):\r\n",
    "        return f(a, b)\r\n",
    "    return pair\r\n",
    "```\r\n",
    "Implement car and cdr."
   ],
   "cell_type": "code",
   "metadata": {},
   "execution_count": null,
   "outputs": []
  },
  {
   "cell_type": "code",
   "execution_count": null,
   "metadata": {},
   "outputs": [],
   "source": [
    "def cons(a, b):\r\n",
    "    def pair(f):\r\n",
    "        return f(a, b)\r\n",
    "    return pair\r\n",
    "\r\n",
    "def car(pair):\r\n",
    "    return pair(lambda a, b: a)\r\n",
    "\r\n",
    "def cdr(pair):\r\n",
    "    return pair(lambda a, b: b)\r\n",
    "\r\n",
    "print(car(cons(3, 4)))"
   ]
  },
  {
   "cell_type": "markdown",
   "metadata": {},
   "source": [
    "### Solution\r\n",
    "\r\n",
    "This is a really cool example of using closures to store data. We must look at the signature type of cons to retrieve its first and last elements. cons takes in a and b, and returns a new anonymous function, which itself takes in f, and calls f with a and b. So the input to car and cdr is that anonymous function, which is pair. To get a and b back, we must feed it yet another function, one that takes in two parameters and returns the first (if car) or last (if cdr) one."
   ]
  },
  {
   "cell_type": "markdown",
   "metadata": {},
   "source": [
    "### Challange 568\r\n",
    "This problem was asked by Google.\r\n",
    "\r\n",
    "Given a sorted list of integers, square the elements and give the output in sorted order.\r\n",
    "\r\n",
    "For example, given [-9, -2, 0, 2, 3], return [0, 4, 4, 9, 81]."
   ]
  },
  {
   "cell_type": "code",
   "execution_count": null,
   "metadata": {},
   "outputs": [],
   "source": [
    "# my solution\r\n",
    "x = [-9, -2, 0, 2, 3]\r\n",
    "y = []\r\n",
    "\r\n",
    "for elem in x:\r\n",
    "    y.append(elem**2)\r\n",
    "list.sort(y)\r\n",
    "print(y)"
   ]
  },
  {
   "cell_type": "code",
   "execution_count": null,
   "metadata": {},
   "outputs": [],
   "source": [
    "# online solution\r\n",
    "\r\n",
    "def square_sort(lst):\r\n",
    "    negatives = [x for x in lst if x < 0]\r\n",
    "    non_negatives = [x for x in lst if x >= 0]\r\n",
    "\r\n",
    "    negatives_square_sorted = [x ** 2 for x in reversed(negatives)]\r\n",
    "    non_negatives_square_sorted = [x ** 2 for x in non_negatives]\r\n",
    "\r\n",
    "    return _merge(negatives_square_sorted, non_negatives_square_sorted)\r\n",
    "\r\n",
    "\r\n",
    "def _merge(left_lst, right_lst): # simple algorithm for merging two sorted lists of integers\r\n",
    "    result = []\r\n",
    "\r\n",
    "    i = j = 0\r\n",
    "\r\n",
    "    while i < len(left_lst) and j < len(right_lst):\r\n",
    "        if left_lst[i] < right_lst[j]:\r\n",
    "            result.append(left_lst[i])\r\n",
    "            i += 1\r\n",
    "        elif left_lst[i] > right_lst[j]:\r\n",
    "            result.append(right_lst[j])\r\n",
    "            j += 1\r\n",
    "        else:\r\n",
    "            result.append(left_lst[i])\r\n",
    "            result.append(right_lst[j])\r\n",
    "            i += 1\r\n",
    "            j += 1\r\n",
    "\r\n",
    "    result.extend(left_lst[i:])\r\n",
    "    result.extend(right_lst[j:])\r\n",
    "    return result\r\n",
    "\r\n",
    "print(square_sort([-9, -2, 0, 2, 3]))"
   ]
  },
  {
   "cell_type": "markdown",
   "metadata": {},
   "source": [
    "### Challange 560\r\n",
    "This problem was recently asked by Google.\r\n",
    "\r\n",
    "Given a list of numbers and a number k, return whether any two numbers from the list add up to k.\r\n",
    "\r\n",
    "For example, given [10, 15, 3, 7] and k of 17, return true since 10 + 7 is 17.\r\n",
    "\r\n",
    "Bonus: Can you do this in one pass?"
   ]
  },
  {
   "cell_type": "code",
   "execution_count": null,
   "metadata": {},
   "outputs": [],
   "source": [
    "# my solution\r\n",
    "x = [10, 15, 3, 7]\r\n",
    "k = 18\r\n",
    "\r\n",
    "def does_addup(a,b):\r\n",
    "    for num in a:\r\n",
    "        if b-num in a:\r\n",
    "            return True\r\n",
    "    return False\r\n",
    "\r\n",
    "does_addup(x,k)"
   ]
  },
  {
   "cell_type": "code",
   "execution_count": null,
   "metadata": {},
   "outputs": [],
   "source": [
    "# online solution\r\n",
    "x = [10, 15, 3, 7]\r\n",
    "k = 18\r\n",
    "\r\n",
    "def two_sum(lst, k):\r\n",
    "    seen = set() # like a list but can't contain duplicates\r\n",
    "    for num in lst:\r\n",
    "        if k - num in seen: \r\n",
    "            return True\r\n",
    "        seen.add(num)\r\n",
    "    return False\r\n",
    "\r\n",
    "two_sum(x,k)"
   ]
  },
  {
   "cell_type": "markdown",
   "metadata": {},
   "source": [
    "### Challenge 554\r\n",
    "This problem was asked by Palantir.\r\n",
    "\r\n",
    "The ancient Egyptians used to express fractions as a sum of several terms where each numerator is one. For example, 4 / 13 can be represented as 1 / 4 + 1 / 18 + 1 / 468.\r\n",
    "\r\n",
    "Create an algorithm to turn an ordinary fraction a / b, where a < b, into an Egyptian fraction."
   ]
  },
  {
   "cell_type": "code",
   "execution_count": null,
   "metadata": {},
   "outputs": [],
   "source": [
    "import time\r\n",
    "\r\n",
    "def egypt_fract(teller,nevner):\r\n",
    "    solution = []\r\n",
    "    n = 2\r\n",
    "    while not teller == 0:\r\n",
    "        teller_sub = nevner\r\n",
    "        nevner_sub = n*nevner\r\n",
    "        teller = teller*n\r\n",
    "        nevner = nevner*n\r\n",
    "        if teller - teller_sub > 0:\r\n",
    "            solution.append((teller_sub, nevner))\r\n",
    "            teller = teller - teller_sub\r\n",
    "        else:\r\n",
    "            n += 1\r\n",
    "        return solution\r\n",
    "\r\n",
    "print(egypt_fract(5,120))\r\n",
    "\r\n",
    "# FAIL :("
   ]
  },
  {
   "cell_type": "markdown",
   "metadata": {},
   "source": [
    "### Challenge 548\r\n",
    "This problem was asked by Microsoft.\r\n",
    "\r\n",
    "Given a clock time in hh:mm format, determine, to the nearest degree, the angle between the hour and the minute hands.\r\n",
    "\r\n",
    "Bonus: When, during the course of a day, will the angle be zero?"
   ]
  },
  {
   "cell_type": "code",
   "execution_count": null,
   "metadata": {},
   "outputs": [],
   "source": [
    "def angle(h,m):\r\n",
    "    a_1 = 360*(m/60)\r\n",
    "    a_2 = 360*(h/12)\r\n",
    "    if a_2 > 360:\r\n",
    "        a_2 -= 360\r\n",
    "    return abs(a_1-a_2)\r\n",
    "\r\n",
    "    min()\r\n",
    "print(angle(8,30))"
   ]
  },
  {
   "cell_type": "markdown",
   "metadata": {},
   "source": [
    "https://www.youtube.com/watch?v=p15xzjzR9j0\r\n",
    "# useful! get back to later :)"
   ]
  },
  {
   "cell_type": "markdown",
   "metadata": {},
   "source": [
    "# Challenge 541\r\n",
    "This problem was asked by Amazon.\r\n",
    "\r\n",
    "Run-length encoding is a fast and simple method of encoding strings. The basic idea is to represent repeated successive characters as a single count and character. For example, the string \"AAAABBBCCDAA\" would be encoded as \"4A3B2C1D2A\".\r\n",
    "\r\n",
    "Implement run-length encoding and decoding. You can assume the string to be encoded have no digits and consists solely of alphabetic characters. You can assume the string to be decoded is valid."
   ]
  },
  {
   "cell_type": "code",
   "execution_count": 16,
   "metadata": {},
   "outputs": [
    {
     "name": "stdout",
     "output_type": "stream",
     "text": [
      "4A2B2C1D2A3X2Y1D\n"
     ]
    }
   ],
   "source": [
    "string = \"AAAABBCCDAAXXXYYD\"\r\n",
    "def encode(x):\r\n",
    "    x = list(string)\r\n",
    "    n = 0\r\n",
    "    count = 0\r\n",
    "    letter = \"\"\r\n",
    "    prev_letter = \"\"\r\n",
    "    encoded = []\r\n",
    "    for char in x:\r\n",
    "        letter = char\r\n",
    "        if letter != prev_letter:\r\n",
    "            encoded.append(count)\r\n",
    "            encoded.append(prev_letter)\r\n",
    "            count = 1\r\n",
    "            prev_letter = letter\r\n",
    "        else:\r\n",
    "            count += 1\r\n",
    "    for i in range(2):\r\n",
    "        encoded.pop(0)\r\n",
    "    encoded.append(count)\r\n",
    "    encoded.append(prev_letter)\r\n",
    "    encoded = \"\".join([str(elem) for elem in encoded])\r\n",
    "    return encoded\r\n",
    "\r\n",
    "\r\n",
    "print(encode(string))\r\n"
   ]
  }
 ],
 "metadata": {
  "kernelspec": {
   "display_name": "Python 3.9.0 64-bit",
   "metadata": {
    "interpreter": {
     "hash": "a0ded08c67edfe2a4354d36b10e2f98b3ecfce6631b76726d618bad84dd97c1f"
    }
   },
   "name": "python3"
  },
  "language_info": {
   "codemirror_mode": {
    "name": "ipython",
    "version": 3
   },
   "file_extension": ".py",
   "mimetype": "text/x-python",
   "name": "python",
   "nbconvert_exporter": "python",
   "pygments_lexer": "ipython3",
   "version": "3.9.0"
  },
  "orig_nbformat": 2
 },
 "nbformat": 4,
 "nbformat_minor": 2
}