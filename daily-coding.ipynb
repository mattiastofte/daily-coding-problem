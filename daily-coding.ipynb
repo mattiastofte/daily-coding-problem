{
 "metadata": {
  "language_info": {
   "codemirror_mode": {
    "name": "ipython",
    "version": 3
   },
   "file_extension": ".py",
   "mimetype": "text/x-python",
   "name": "python",
   "nbconvert_exporter": "python",
   "pygments_lexer": "ipython3",
   "version": "3.8.0-final"
  },
  "orig_nbformat": 2,
  "kernelspec": {
   "name": "python3",
   "display_name": "Python 3.8.0 32-bit",
   "metadata": {
    "interpreter": {
     "hash": "20eaf9ab0972e0b325ea0486176976031b1d6e9c323345e3ed489917437a05c4"
    }
   }
  }
 },
 "nbformat": 4,
 "nbformat_minor": 2,
 "cells": [
  {
   "cell_type": "code",
   "execution_count": 38,
   "metadata": {
    "tags": []
   },
   "outputs": [
    {
     "output_type": "stream",
     "name": "stdout",
     "text": [
      "0.05769230769230771\n",
      "0.002136752136752157\n",
      "1.9949319973733282e-17\n"
     ]
    },
    {
     "output_type": "error",
     "ename": "KeyboardInterrupt",
     "evalue": "",
     "traceback": [
      "\u001b[1;31m---------------------------------------------------------------------------\u001b[0m",
      "\u001b[1;31mKeyboardInterrupt\u001b[0m                         Traceback (most recent call last)",
      "\u001b[1;32m<ipython-input-38-3c3a3d7a4593>\u001b[0m in \u001b[0;36m<module>\u001b[1;34m\u001b[0m\n\u001b[0;32m     14\u001b[0m \u001b[1;33m\u001b[0m\u001b[0m\n\u001b[0;32m     15\u001b[0m \u001b[1;33m\u001b[0m\u001b[0m\n\u001b[1;32m---> 16\u001b[1;33m \u001b[0megypt_fract\u001b[0m\u001b[1;33m(\u001b[0m\u001b[1;36m4\u001b[0m\u001b[1;33m/\u001b[0m\u001b[1;36m13\u001b[0m\u001b[1;33m,\u001b[0m\u001b[0msolution\u001b[0m\u001b[1;33m)\u001b[0m\u001b[1;33m\u001b[0m\u001b[1;33m\u001b[0m\u001b[0m\n\u001b[0m\u001b[0;32m     17\u001b[0m \u001b[0mprint\u001b[0m\u001b[1;33m(\u001b[0m\u001b[0msolution\u001b[0m\u001b[1;33m)\u001b[0m\u001b[1;33m\u001b[0m\u001b[1;33m\u001b[0m\u001b[0m\n",
      "\u001b[1;32m<ipython-input-38-3c3a3d7a4593>\u001b[0m in \u001b[0;36megypt_fract\u001b[1;34m(x, values)\u001b[0m\n\u001b[0;32m     11\u001b[0m         \u001b[1;32melse\u001b[0m\u001b[1;33m:\u001b[0m\u001b[1;33m\u001b[0m\u001b[1;33m\u001b[0m\u001b[0m\n\u001b[0;32m     12\u001b[0m             \u001b[0mn\u001b[0m \u001b[1;33m+=\u001b[0m \u001b[1;36m1\u001b[0m\u001b[1;33m\u001b[0m\u001b[1;33m\u001b[0m\u001b[0m\n\u001b[1;32m---> 13\u001b[1;33m         \u001b[0mtime\u001b[0m\u001b[1;33m.\u001b[0m\u001b[0msleep\u001b[0m\u001b[1;33m(\u001b[0m\u001b[1;36m0.1\u001b[0m\u001b[1;33m)\u001b[0m\u001b[1;33m\u001b[0m\u001b[1;33m\u001b[0m\u001b[0m\n\u001b[0m\u001b[0;32m     14\u001b[0m \u001b[1;33m\u001b[0m\u001b[0m\n\u001b[0;32m     15\u001b[0m \u001b[1;33m\u001b[0m\u001b[0m\n",
      "\u001b[1;31mKeyboardInterrupt\u001b[0m: "
     ]
    }
   ],
   "source": []
  },
  {
   "cell_type": "code",
   "execution_count": 23,
   "metadata": {},
   "outputs": [
    {
     "output_type": "stream",
     "name": "stdout",
     "text": [
      "0.16666666666666669\n2.7755575615628914e-17\n"
     ]
    },
    {
     "output_type": "error",
     "ename": "KeyboardInterrupt",
     "evalue": "",
     "traceback": [
      "\u001b[1;31m---------------------------------------------------------------------------\u001b[0m",
      "\u001b[1;31mKeyboardInterrupt\u001b[0m                         Traceback (most recent call last)",
      "\u001b[1;32m<ipython-input-23-1b1df654e86b>\u001b[0m in \u001b[0;36m<module>\u001b[1;34m\u001b[0m\n\u001b[0;32m     12\u001b[0m             \u001b[0mn\u001b[0m \u001b[1;33m+=\u001b[0m \u001b[1;36m1\u001b[0m\u001b[1;33m\u001b[0m\u001b[1;33m\u001b[0m\u001b[0m\n\u001b[0;32m     13\u001b[0m \u001b[1;33m\u001b[0m\u001b[0m\n\u001b[1;32m---> 14\u001b[1;33m \u001b[0megypt_fraction\u001b[0m\u001b[1;33m(\u001b[0m\u001b[1;36m2\u001b[0m\u001b[1;33m/\u001b[0m\u001b[1;36m4\u001b[0m\u001b[1;33m)\u001b[0m\u001b[1;33m\u001b[0m\u001b[1;33m\u001b[0m\u001b[0m\n\u001b[0m\u001b[0;32m     15\u001b[0m \u001b[0mprint\u001b[0m\u001b[1;33m(\u001b[0m\u001b[0msolution\u001b[0m\u001b[1;33m)\u001b[0m\u001b[1;33m\u001b[0m\u001b[1;33m\u001b[0m\u001b[0m\n\u001b[0;32m     16\u001b[0m \u001b[1;33m\u001b[0m\u001b[0m\n",
      "\u001b[1;32m<ipython-input-23-1b1df654e86b>\u001b[0m in \u001b[0;36megypt_fraction\u001b[1;34m(x)\u001b[0m\n\u001b[0;32m      5\u001b[0m     \u001b[0mn\u001b[0m \u001b[1;33m=\u001b[0m \u001b[1;36m2\u001b[0m\u001b[1;33m\u001b[0m\u001b[1;33m\u001b[0m\u001b[0m\n\u001b[0;32m      6\u001b[0m     \u001b[1;32mwhile\u001b[0m \u001b[1;32mnot\u001b[0m \u001b[0mx\u001b[0m \u001b[1;33m==\u001b[0m \u001b[1;36m0\u001b[0m\u001b[1;33m:\u001b[0m\u001b[1;33m\u001b[0m\u001b[1;33m\u001b[0m\u001b[0m\n\u001b[1;32m----> 7\u001b[1;33m         \u001b[1;32mif\u001b[0m \u001b[0mx\u001b[0m \u001b[1;33m-\u001b[0m \u001b[1;33m(\u001b[0m\u001b[1;36m1\u001b[0m\u001b[1;33m/\u001b[0m\u001b[0mn\u001b[0m\u001b[1;33m)\u001b[0m \u001b[1;33m>\u001b[0m \u001b[1;36m0\u001b[0m\u001b[1;33m:\u001b[0m\u001b[1;33m\u001b[0m\u001b[1;33m\u001b[0m\u001b[0m\n\u001b[0m\u001b[0;32m      8\u001b[0m             \u001b[0msolution\u001b[0m\u001b[1;33m.\u001b[0m\u001b[0mappend\u001b[0m\u001b[1;33m(\u001b[0m\u001b[1;36m1\u001b[0m\u001b[1;33m/\u001b[0m\u001b[0mn\u001b[0m\u001b[1;33m)\u001b[0m\u001b[1;33m\u001b[0m\u001b[1;33m\u001b[0m\u001b[0m\n\u001b[0;32m      9\u001b[0m             \u001b[0mx\u001b[0m \u001b[1;33m-=\u001b[0m \u001b[1;33m(\u001b[0m\u001b[1;36m1\u001b[0m\u001b[1;33m/\u001b[0m\u001b[0mn\u001b[0m\u001b[1;33m)\u001b[0m\u001b[1;33m\u001b[0m\u001b[1;33m\u001b[0m\u001b[0m\n",
      "\u001b[1;31mKeyboardInterrupt\u001b[0m: "
     ]
    }
   ],
   "source": [
    "x = 2/4\n",
    "solution = []\n",
    "\n",
    "def egypt_fraction(x):\n",
    "    n = 2\n",
    "    while not x == 0:\n",
    "        if x - (1/n) > 0:\n",
    "            solution.append(1/n)\n",
    "            x -= (1/n)\n",
    "            prin\n",
    "        else:\n",
    "            n += 1\n",
    "\n",
    "egypt_fraction(2/4)\n",
    "print(solution)\n",
    "        "
   ]
  },
  {
   "source": [
    "# daily-coding-challanges"
   ],
   "cell_type": "markdown",
   "metadata": {}
  },
  {
   "source": [
    "a collection of *daily* (hopefully?) coding problems, neatly organized with solutions."
   ],
   "cell_type": "markdown",
   "metadata": {}
  },
  {
   "source": [
    "### Challange 567\n",
    "This problem was asked by Jane Street.\n",
    "\n",
    "cons(a, b) constructs a pair, and car(pair) and cdr(pair) returns the first and last element of that pair. For example, car(cons(3, 4)) returns 3, and cdr(cons(3, 4)) returns 4.\n",
    "\n",
    "Given this implementation of cons:\n",
    "\n",
    "```{r}\n",
    "def cons(a, b):\n",
    "    def pair(f):\n",
    "        return f(a, b)\n",
    "    return pair\n",
    "```\n",
    "Implement car and cdr."
   ],
   "cell_type": "code",
   "metadata": {},
   "execution_count": null,
   "outputs": []
  },
  {
   "cell_type": "code",
   "execution_count": 39,
   "metadata": {},
   "outputs": [
    {
     "output_type": "stream",
     "name": "stdout",
     "text": [
      "3\n"
     ]
    }
   ],
   "source": [
    "def cons(a, b):\n",
    "    def pair(f):\n",
    "        return f(a, b)\n",
    "    return pair\n",
    "\n",
    "def car(pair):\n",
    "    return pair(lambda a, b: a)\n",
    "\n",
    "def cdr(pair):\n",
    "    return pair(lambda a, b: b)\n",
    "\n",
    "print(car(cons(3, 4)))"
   ]
  },
  {
   "source": [
    "### Solution\n",
    "\n",
    "This is a really cool example of using closures to store data. We must look at the signature type of cons to retrieve its first and last elements. cons takes in a and b, and returns a new anonymous function, which itself takes in f, and calls f with a and b. So the input to car and cdr is that anonymous function, which is pair. To get a and b back, we must feed it yet another function, one that takes in two parameters and returns the first (if car) or last (if cdr) one."
   ],
   "cell_type": "markdown",
   "metadata": {}
  },
  {
   "source": [
    "### Challange 568\n",
    "This problem was asked by Google.\n",
    "\n",
    "Given a sorted list of integers, square the elements and give the output in sorted order.\n",
    "\n",
    "For example, given [-9, -2, 0, 2, 3], return [0, 4, 4, 9, 81]."
   ],
   "cell_type": "markdown",
   "metadata": {}
  },
  {
   "cell_type": "code",
   "execution_count": 59,
   "metadata": {},
   "outputs": [
    {
     "output_type": "stream",
     "name": "stdout",
     "text": [
      "[0, 4, 4, 9, 81]\n"
     ]
    }
   ],
   "source": [
    "# my solution\n",
    "x = [-9, -2, 0, 2, 3]\n",
    "y = []\n",
    "\n",
    "for elem in x:\n",
    "    y.append(elem**2)\n",
    "list.sort(y)\n",
    "print(y)"
   ]
  },
  {
   "cell_type": "code",
   "execution_count": 62,
   "metadata": {},
   "outputs": [
    {
     "output_type": "stream",
     "name": "stdout",
     "text": [
      "[0, 4, 4, 9, 81]\n"
     ]
    }
   ],
   "source": [
    "# online solution\n",
    "\n",
    "def square_sort(lst):\n",
    "    negatives = [x for x in lst if x < 0]\n",
    "    non_negatives = [x for x in lst if x >= 0]\n",
    "\n",
    "    negatives_square_sorted = [x ** 2 for x in reversed(negatives)]\n",
    "    non_negatives_square_sorted = [x ** 2 for x in non_negatives]\n",
    "\n",
    "    return _merge(negatives_square_sorted, non_negatives_square_sorted)\n",
    "\n",
    "\n",
    "def _merge(left_lst, right_lst): # simple algorithm for merging two sorted lists of integers\n",
    "    result = []\n",
    "\n",
    "    i = j = 0\n",
    "\n",
    "    while i < len(left_lst) and j < len(right_lst):\n",
    "        if left_lst[i] < right_lst[j]:\n",
    "            result.append(left_lst[i])\n",
    "            i += 1\n",
    "        elif left_lst[i] > right_lst[j]:\n",
    "            result.append(right_lst[j])\n",
    "            j += 1\n",
    "        else:\n",
    "            result.append(left_lst[i])\n",
    "            result.append(right_lst[j])\n",
    "            i += 1\n",
    "            j += 1\n",
    "\n",
    "    result.extend(left_lst[i:])\n",
    "    result.extend(right_lst[j:])\n",
    "    return result\n",
    "\n",
    "print(square_sort([-9, -2, 0, 2, 3]))"
   ]
  },
  {
   "source": [
    "### Challange 560\n",
    "This problem was recently asked by Google.\n",
    "\n",
    "Given a list of numbers and a number k, return whether any two numbers from the list add up to k.\n",
    "\n",
    "For example, given [10, 15, 3, 7] and k of 17, return true since 10 + 7 is 17.\n",
    "\n",
    "Bonus: Can you do this in one pass?"
   ],
   "cell_type": "markdown",
   "metadata": {}
  },
  {
   "cell_type": "code",
   "execution_count": 11,
   "metadata": {},
   "outputs": [
    {
     "output_type": "execute_result",
     "data": {
      "text/plain": [
       "True"
      ]
     },
     "metadata": {},
     "execution_count": 11
    }
   ],
   "source": [
    "# my solution\n",
    "x = [10, 15, 3, 7]\n",
    "k = 18\n",
    "\n",
    "def does_addup(a,b):\n",
    "    for num in a:\n",
    "        if b-num in a:\n",
    "            return True\n",
    "    return False\n",
    "\n",
    "does_addup(x,k)"
   ]
  },
  {
   "cell_type": "code",
   "execution_count": 17,
   "metadata": {},
   "outputs": [
    {
     "output_type": "execute_result",
     "data": {
      "text/plain": [
       "True"
      ]
     },
     "metadata": {},
     "execution_count": 17
    }
   ],
   "source": [
    "# online solution\n",
    "x = [10, 15, 3, 7]\n",
    "k = 18\n",
    "\n",
    "def two_sum(lst, k):\n",
    "    seen = set() # like a list but can't contain duplicates\n",
    "    for num in lst:\n",
    "        if k - num in seen: \n",
    "            return True\n",
    "        seen.add(num)\n",
    "    return False\n",
    "\n",
    "two_sum(x,k)"
   ]
  },
  {
   "cell_type": "code",
   "execution_count": null,
   "metadata": {},
   "outputs": [],
   "source": [
    "https://www.youtube.com/watch?v=p15xzjzR9j0\n",
    "# useful! get back to later :)"
   ]
  },
  {
   "cell_type": "code",
   "execution_count": null,
   "metadata": {},
   "outputs": [],
   "source": [
    "### Challenge 554\n",
    "This problem was asked by Palantir.\n",
    "\n",
    "The ancient Egyptians used to express fractions as a sum of several terms where each numerator is one. For example, 4 / 13 can be represented as 1 / 4 + 1 / 18 + 1 / 468.\n",
    "\n",
    "Create an algorithm to turn an ordinary fraction a / b, where a < b, into an Egyptian fraction."
   ]
  },
  {
   "cell_type": "code",
   "execution_count": 3,
   "metadata": {
    "tags": []
   },
   "outputs": [
    {
     "output_type": "stream",
     "name": "stdout",
     "text": [
      "[]\n"
     ]
    }
   ],
   "source": [
    "import time\n",
    "\n",
    "def egypt_fract(teller,nevner):\n",
    "    solution = []\n",
    "    n = 2\n",
    "    while not teller == 0:\n",
    "        teller_sub = nevner\n",
    "        nevner_sub = n*nevner\n",
    "        teller = teller*n\n",
    "        nevner = nevner*n\n",
    "        if teller - teller_sub > 0:\n",
    "            solution.append((teller_sub, nevner))\n",
    "            teller = teller - teller_sub\n",
    "        else:\n",
    "            n += 1\n",
    "        return solution\n",
    "\n",
    "print(egypt_fract(5,120))\n",
    "\n",
    "# FAIL :("
   ]
  },
  {
   "source": [
    "### Challenge 548\n",
    "This problem was asked by Microsoft.\n",
    "\n",
    "Given a clock time in hh:mm format, determine, to the nearest degree, the angle between the hour and the minute hands.\n",
    "\n",
    "Bonus: When, during the course of a day, will the angle be zero?"
   ],
   "cell_type": "markdown",
   "metadata": {}
  },
  {
   "cell_type": "code",
   "execution_count": 2,
   "metadata": {},
   "outputs": [
    {
     "output_type": "stream",
     "name": "stdout",
     "text": [
      "60.0\n"
     ]
    }
   ],
   "source": [
    "def angle(h,m):\n",
    "    a_1 = 360*(m/60)\n",
    "    a_2 = 360*(h/12)\n",
    "    if a_2 > 360:\n",
    "        a_2 -= 360\n",
    "    return abs(a_1-a_2)\n",
    "\n",
    "    min()\n",
    "print(angle(8,30))"
   ]
  },
  {
   "cell_type": "code",
   "execution_count": null,
   "metadata": {},
   "outputs": [],
   "source": []
  }
 ]
}